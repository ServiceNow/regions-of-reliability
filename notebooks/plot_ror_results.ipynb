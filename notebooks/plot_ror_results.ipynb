{
 "cells": [
  {
   "cell_type": "markdown",
   "id": "722275f0",
   "metadata": {},
   "source": [
    "```\n",
    "Copyright 2023 ServiceNow\n",
    "Licensed under the Apache License, Version 2.0 (the \"License\");\n",
    "you may not use this file except in compliance with the License.\n",
    "You may obtain a copy of the License at\n",
    "    http://www.apache.org/licenses/LICENSE-2.0\n",
    "Unless required by applicable law or agreed to in writing, software\n",
    "distributed under the License is distributed on an \"AS IS\" BASIS,\n",
    "WITHOUT WARRANTIES OR CONDITIONS OF ANY KIND, either express or implied.\n",
    "See the License for the specific language governing permissions and\n",
    "limitations under the License.\n",
    "```"
   ]
  },
  {
   "cell_type": "markdown",
   "id": "pressing-wesley",
   "metadata": {},
   "source": [
    "This notebook takes the results stored in `./data/ror_results.csv` and create the colour plots for a single experiment or a single metric."
   ]
  },
  {
   "cell_type": "code",
   "execution_count": null,
   "id": "apparent-rates",
   "metadata": {},
   "outputs": [],
   "source": [
    "import sys\n",
    "sys.path.append(\"..\")"
   ]
  },
  {
   "cell_type": "code",
   "execution_count": null,
   "id": "assumed-clinic",
   "metadata": {},
   "outputs": [],
   "source": [
    "import numpy as np\n",
    "import pandas as pd\n",
    "import matplotlib.pyplot as plt\n",
    "import matplotlib.colors as colors\n",
    "import scipy\n",
    "import glob"
   ]
  },
  {
   "cell_type": "code",
   "execution_count": null,
   "id": "insured-upgrade",
   "metadata": {},
   "outputs": [],
   "source": [
    "from ror.experiments import h0_vs_h1 as exp_def"
   ]
  },
  {
   "cell_type": "code",
   "execution_count": null,
   "id": "obvious-bulgarian",
   "metadata": {},
   "outputs": [],
   "source": [
    "full_df = pd.read_csv(\"./data/ror_results.csv\")\n",
    "groupby_dfs = {index: df for index, df in full_df.groupby([\"experiment\", \"metric\", \"dim\", \"num_samples\"])}"
   ]
  },
  {
   "cell_type": "code",
   "execution_count": null,
   "id": "aging-subsection",
   "metadata": {},
   "outputs": [],
   "source": [
    "def get_beta(exp_name, metric_name, dim, num_samples):\n",
    "    if (exp_name, metric_name, dim, num_samples) not in groupby_dfs:\n",
    "        return np.nan\n",
    "    df = groupby_dfs[exp_name, metric_name, dim, num_samples]\n",
    "\n",
    "    diffs = df.GT - df.FCST\n",
    "    d_mean = diffs.mean()\n",
    "    d_std = diffs.std()\n",
    "    \n",
    "    alpha = 0.05\n",
    "    threshold = exp_def.NUM_DRAWS**0.5 * d_std * scipy.stats.norm.ppf(exp_def.ALPHA)\n",
    "    return 1 - scipy.stats.norm.cdf((threshold - exp_def.NUM_DRAWS * d_mean) / (exp_def.NUM_DRAWS**0.5 * d_std))"
   ]
  },
  {
   "cell_type": "code",
   "execution_count": null,
   "id": "geological-spectrum",
   "metadata": {},
   "outputs": [],
   "source": [
    "def plot_exp_metric(exp_name, metric_name):\n",
    "    betas = np.zeros((len(exp_def.NUM_SAMPLES_LIST), len(exp_def.DIM_LIST)))\n",
    "    for i in range(len(exp_def.DIM_LIST)):\n",
    "        for j in range(len(exp_def.NUM_SAMPLES_LIST)): \n",
    "            betas[j][i] = get_beta(exp_name, metric_name, exp_def.DIM_LIST[i], exp_def.NUM_SAMPLES_LIST[j])\n",
    "    \n",
    "    plt.figure(figsize=(12,8))\n",
    "    plt.pcolor(\n",
    "        exp_def.DIM_LIST,\n",
    "        exp_def.NUM_SAMPLES_LIST,\n",
    "        betas,\n",
    "        shading=\"nearest\",\n",
    "        cmap=\"viridis_r\",\n",
    "        norm=colors.BoundaryNorm(boundaries=np.linspace(0, 1, 21), ncolors=256),\n",
    "    )\n",
    "    \n",
    "    cb = plt.colorbar(\n",
    "        label=f\"Probabilities of false negative with {exp_def.NUM_DRAWS} Ground-Truth samples\",\n",
    "        ticks=[0, 0.2, 0.4, 0.6, 0.8, 1.0],\n",
    "    )\n",
    "    cb.ax.plot([0, 1], [exp_def.BETA_NLL]*2, color='w', linewidth=3)  # Add a notes to where the Log-likelihood lies\n",
    "    cb.ax.set_yticklabels([\"0.0\", \"0.2 = NLL\", \"0.4\", \"0.6\", \"0.8\", \"1.0\"]) \n",
    "    \n",
    "    plt.title(f\"Metric = {metric_name}, Distributions = {exp_name}\")\n",
    "    plt.xlabel(\"dimension\")\n",
    "    plt.ylabel(\"Number of Forecasting samples\")\n",
    "    \n",
    "    plt.gca().set_xscale('log', base=2)\n",
    "    plt.gca().set_yscale('log', base=2)\n",
    "    plt.xlim(exp_def.DIM_LIST[0] / 2**0.5, exp_def.DIM_LIST[-1] * 2**0.5)\n",
    "    plt.ylim(exp_def.NUM_SAMPLES_LIST[0] / 2**0.5, exp_def.NUM_SAMPLES_LIST[-1] * 2**0.5)\n",
    "    \n",
    "    plt.show()"
   ]
  },
  {
   "cell_type": "code",
   "execution_count": null,
   "id": "finnish-ferry",
   "metadata": {
    "scrolled": false
   },
   "outputs": [],
   "source": [
    "%%time\n",
    "for metric in exp_def.METRIC_FUNCTIONS.keys():\n",
    "    plot_exp_metric(\"wrong_mean_single\", metric)"
   ]
  },
  {
   "cell_type": "code",
   "execution_count": null,
   "id": "disabled-boundary",
   "metadata": {
    "scrolled": false
   },
   "outputs": [],
   "source": [
    "for exp_name in exp_def.EXP_LIST:\n",
    "    plot_exp_metric(exp_name, \"crps_quantile\")"
   ]
  }
 ],
 "metadata": {
  "kernelspec": {
   "display_name": "Python 3 (ipykernel)",
   "language": "python",
   "name": "python3"
  },
  "language_info": {
   "codemirror_mode": {
    "name": "ipython",
    "version": 3
   },
   "file_extension": ".py",
   "mimetype": "text/x-python",
   "name": "python",
   "nbconvert_exporter": "python",
   "pygments_lexer": "ipython3",
   "version": "3.10.9"
  }
 },
 "nbformat": 4,
 "nbformat_minor": 5
}

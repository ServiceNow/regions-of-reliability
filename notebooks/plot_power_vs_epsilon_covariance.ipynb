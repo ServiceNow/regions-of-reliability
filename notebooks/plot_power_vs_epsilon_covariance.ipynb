{
 "cells": [
  {
   "cell_type": "markdown",
   "id": "e0158916",
   "metadata": {},
   "source": [
    "```\n",
    "Copyright 2023 ServiceNow\n",
    "Licensed under the Apache License, Version 2.0 (the \"License\");\n",
    "you may not use this file except in compliance with the License.\n",
    "You may obtain a copy of the License at\n",
    "    http://www.apache.org/licenses/LICENSE-2.0\n",
    "Unless required by applicable law or agreed to in writing, software\n",
    "distributed under the License is distributed on an \"AS IS\" BASIS,\n",
    "WITHOUT WARRANTIES OR CONDITIONS OF ANY KIND, either express or implied.\n",
    "See the License for the specific language governing permissions and\n",
    "limitations under the License.\n",
    "```"
   ]
  },
  {
   "cell_type": "markdown",
   "id": "romantic-suite",
   "metadata": {},
   "source": [
    "Measure the statistical power of multiple metrics for a single experiment, for varying values of the $\\varepsilon$ parameter, which control the difference between the ground-state and the forecast distributions."
   ]
  },
  {
   "cell_type": "code",
   "execution_count": null,
   "id": "domestic-rendering",
   "metadata": {},
   "outputs": [],
   "source": [
    "import sys\n",
    "sys.path.append(\"..\")"
   ]
  },
  {
   "cell_type": "code",
   "execution_count": null,
   "id": "coral-respect",
   "metadata": {},
   "outputs": [],
   "source": [
    "import numpy as np\n",
    "import pandas as pd\n",
    "import scipy\n",
    "from pprint import pprint\n",
    "import matplotlib.pyplot as plt"
   ]
  },
  {
   "cell_type": "code",
   "execution_count": null,
   "id": "working-brunei",
   "metadata": {},
   "outputs": [],
   "source": [
    "from ror.experiments import h0_vs_h1 as exp_def"
   ]
  },
  {
   "cell_type": "markdown",
   "id": "deadly-firmware",
   "metadata": {},
   "source": [
    "We take 3 multivariate gaussian distributions:\n",
    "* Ground-Truth: $y \\sim N(\\eta, \\Lambda)$\n",
    "* First forecast: $x \\sim N(\\mu, \\Sigma)$\n",
    "* Second forecast: $x \\sim N(\\mu', \\Sigma')$\n",
    "\n",
    "The negative log-likelihood for the first forecast is:\n",
    "$$\n",
    "NLL(y) =\n",
    "\\frac{d}{2} \\log{2\\pi}\n",
    "+ \\frac{1}{2} \\log \\det \\Sigma\n",
    "+ \\frac{1}{2} (y-\\mu)^T \\Sigma^{-1} (y-\\mu)\n",
    "$$\n",
    "And the difference between the negative log-likelihood of the first and second forecasts is:\n",
    "$$\n",
    "\\Delta(y) =\n",
    "\\frac{1}{2} (\\log \\det \\Sigma - \\log \\det \\Sigma')\n",
    "+ \\frac{1}{2} (y-\\mu)^T \\Sigma^{-1} (y-\\mu)\n",
    "- \\frac{1}{2} (y-\\mu')^T \\Sigma'^{-1} (y-\\mu')\n",
    "$$\n",
    "\n",
    "The expectation of $\\Delta$ over the Ground-Truth is:\n",
    "$$\n",
    "\\mathbb{E}[\\Delta] =\n",
    "\\frac{1}{2} (\\log \\det \\Sigma - \\log \\det \\Sigma')\n",
    "+ \\frac{1}{2} (\\eta-\\mu)^T \\Sigma^{-1} (\\eta-\\mu)\n",
    "- \\frac{1}{2} (\\eta-\\mu')^T \\Sigma'^{-1} (\\eta-\\mu')\n",
    "+ \\frac{1}{2} \\mathrm{tr} \\Lambda^T \\Sigma^{-1}\n",
    "- \\frac{1}{2} \\mathrm{tr} \\Lambda^T \\Sigma'^{-1}\n",
    "$$\n",
    "\n",
    "The expectation of $\\Delta^2$ over the Ground-Truth is:\n",
    "$$\n",
    "\\mathbb{E}[\\Delta^2] =\n",
    "\\frac{1}{4} K(\\Sigma, \\Sigma')^2\n",
    "+ \\frac{1}{2} K(\\Sigma, \\Sigma') A(\\mu, \\Sigma) - \\frac{1}{2} K(\\Sigma, \\Sigma') A(\\mu', \\Sigma')\n",
    "+ \\frac{1}{4} B(\\mu, \\Sigma, \\mu, \\Sigma) + \\frac{1}{4} B(\\mu', \\Sigma', \\mu', \\Sigma') - \\frac{1}{2} B(\\mu, \\Sigma, \\mu', \\Sigma')\n",
    "$$\n",
    "\n",
    "Where (note that $\\Lambda^T = \\Lambda$, and same for $\\Sigma$ and $\\Sigma'$):\n",
    "\\begin{eqnarray}\n",
    "K(\\Sigma, \\Sigma') & = & \\log \\det \\Sigma - \\log \\det \\Sigma' \\\\\n",
    "A(\\mu, \\Sigma) & = & (\\eta-\\mu)^T \\Sigma^{-1} (\\eta-\\mu) + \\mathrm{tr} \\Lambda^T \\Sigma^{-1} \\\\\n",
    "B(\\mu, \\Sigma, \\mu', \\Sigma') & = & \n",
    "  \\mathrm{tr} \\Lambda^T \\Sigma^{-1} \\cdot \\mathrm{tr} \\Lambda^T \\Sigma'^{-1} \\\\\n",
    "& & + 2 \\cdot \\mathrm{tr} \\Lambda^T (\\Sigma^{-1})^T \\Lambda \\Sigma'^{-1} \\\\\n",
    "& & + \\mathrm{tr} \\Lambda^T \\Sigma^{-1} \\cdot (\\eta-\\mu')^T \\Sigma'^{-1} (\\eta-\\mu') \\\\\n",
    "& & + \\mathrm{tr} \\Lambda^T \\Sigma'^{-1} \\cdot (\\eta-\\mu)^T \\Sigma^{-1} (\\eta-\\mu) \\\\\n",
    "& & + 4 \\cdot (\\eta-\\mu) (\\Sigma^{-1})^T \\Lambda \\Sigma'^{-1} (\\eta-\\mu') \\\\\n",
    "& & + (\\eta-\\mu)^T \\Sigma^{-1} (\\eta-\\mu) \\cdot (\\eta-\\mu')^T \\Sigma'^{-1} (\\eta-\\mu')\n",
    "\\end{eqnarray}\n",
    "\n",
    "And rewritting $\\mathbb{E}[\\Delta]$ using these quantities:\n",
    "$$\n",
    "\\mathbb{E}[\\Delta] = \\frac{1}{2} K(\\Sigma, \\Sigma') + \\frac{1}{2} A(\\mu, \\Sigma) - \\frac{1}{2}A(\\mu', \\Sigma')\n",
    "$$"
   ]
  },
  {
   "cell_type": "code",
   "execution_count": null,
   "id": "frank-problem",
   "metadata": {},
   "outputs": [],
   "source": [
    "def k_eq(sigma1, sigma2):\n",
    "    return np.linalg.slogdet(sigma1)[1] - np.linalg.slogdet(sigma2)[1]\n",
    "\n",
    "def a_eq(mean, cov, mu, sigma):\n",
    "    inv_sigma = np.linalg.inv(sigma)\n",
    "    return (mean - mu) @ inv_sigma @ (mean - mu) + np.trace(cov @ inv_sigma)\n",
    "\n",
    "def b_eq(mean, cov, mu1, sigma1, mu2, sigma2):\n",
    "    inv_sigma1 = np.linalg.inv(sigma1)\n",
    "    inv_sigma2 = np.linalg.inv(sigma2)\n",
    "    result = np.trace(cov @ inv_sigma1) * np.trace(cov @ inv_sigma2)\n",
    "    result += 2 * np.trace(cov @ inv_sigma1 @ cov @ inv_sigma2)\n",
    "    result += np.trace(cov @ inv_sigma1) * ((mean - mu2) @ inv_sigma2 @ (mean - mu2))\n",
    "    result += np.trace(cov @ inv_sigma2) * ((mean - mu1) @ inv_sigma1 @ (mean - mu1))\n",
    "    result += 4 * ((mean - mu1) @ inv_sigma1 @ cov @ inv_sigma2 @ (mean - mu2))\n",
    "    result += ((mean - mu1) @ inv_sigma1 @ (mean - mu1)) * ((mean - mu2) @ inv_sigma2 @ (mean - mu2))\n",
    "    return result"
   ]
  },
  {
   "cell_type": "code",
   "execution_count": null,
   "id": "remarkable-lewis",
   "metadata": {},
   "outputs": [],
   "source": [
    "# Delta = Ground-Truth metric - Forecast metric, so its mean is negative\n",
    "def exp_delta(mean, cov, mu1, sigma1, mu2, sigma2):\n",
    "    return 0.5 * k_eq(sigma1, sigma2) + 0.5 * a_eq(mean, cov, mu1, sigma1) - 0.5 * a_eq(mean, cov, mu2, sigma2)\n",
    "\n",
    "def exp_delta2(mean, cov, mu1, sigma1, mu2, sigma2):\n",
    "    result = 0.25 * k_eq(sigma1, sigma2) * k_eq(sigma1, sigma2)\n",
    "    result += 0.5 * k_eq(sigma1, sigma2) * a_eq(mean, cov, mu1, sigma1)\n",
    "    result += -0.5 * k_eq(sigma1, sigma2) * a_eq(mean, cov, mu2, sigma2)\n",
    "    result += 0.25 * b_eq(mean, cov, mu1, sigma1, mu1, sigma1)\n",
    "    result += 0.25 * b_eq(mean, cov, mu2, sigma2, mu2, sigma2)\n",
    "    result += -0.5 * b_eq(mean, cov, mu1, sigma1, mu2, sigma2)\n",
    "    return result\n",
    "\n",
    "def std_delta(mean, cov, mu1, sigma1, mu2, sigma2):\n",
    "    return (exp_delta2(mean, cov, mu1, sigma1, mu2, sigma2) - exp_delta(mean, cov, mu1, sigma1, mu2, sigma2)**2) ** 0.5"
   ]
  },
  {
   "cell_type": "code",
   "execution_count": null,
   "id": "optical-snowboard",
   "metadata": {},
   "outputs": [],
   "source": [
    "def get_threshold_for_alpha(d_mean, d_std, num_gt, alpha):   \n",
    "    return num_gt**0.5 * d_std * scipy.stats.norm.ppf(alpha)\n",
    "\n",
    "def get_beta_from_threshold(d_mean, d_std, num_gt, threshold):  \n",
    "    return 1 - scipy.stats.norm.cdf((threshold - num_gt * d_mean) / (num_gt**0.5 * d_std))\n",
    "\n",
    "def beta_nll(exp_name, epsilon, dim, num_gt, alpha):\n",
    "    pair_diff = pair_diff = exp_def.EXP_GEN[exp_name](dim, epsilon)\n",
    "    mu_gt, sigma_gt, mu_fcst, sigma_fcst = pair_diff.get_gaussian_parameters()\n",
    "    d_mean = exp_delta(mu_gt, sigma_gt, mu_gt, sigma_gt, mu_fcst, sigma_fcst)\n",
    "    d_std = std_delta(mu_gt, sigma_gt, mu_gt, sigma_gt, mu_fcst, sigma_fcst)\n",
    "    \n",
    "    t = get_threshold_for_alpha(d_mean, d_std, num_gt, alpha)\n",
    "    return get_beta_from_threshold(d_mean, d_std, num_gt, t)   "
   ]
  },
  {
   "cell_type": "code",
   "execution_count": null,
   "id": "funny-decrease",
   "metadata": {},
   "outputs": [],
   "source": [
    "rng = np.random.default_rng(12345)\n",
    "\n",
    "def metric_beta(metric_name, exp_name, epsilon, dim, num_gt, alpha, num_samples, num_forecast):\n",
    "    pair_diff = exp_def.EXP_GEN[exp_name](dim, epsilon)\n",
    "    dist_gt, dist_fcst = pair_diff.get_distributions()\n",
    "    metric_func = exp_def.METRIC_FUNCTIONS[metric_name]\n",
    "    \n",
    "    results = []\n",
    "    for _ in range(num_samples):\n",
    "        targets = dist_gt.sample(1, rng)[0]\n",
    "        gt_forecasts = dist_gt.sample(num_samples, rng)\n",
    "        forecasts = dist_fcst.sample(num_samples, rng)\n",
    "        \n",
    "        metric_gt = metric_func(targets, gt_forecasts)\n",
    "        metric_fcst = metric_func(targets, forecasts)\n",
    "\n",
    "        results.append(metric_gt - metric_fcst)\n",
    "    results = np.array(results)\n",
    "    d_mean = results.mean()\n",
    "    d_std = results.std()\n",
    "    \n",
    "    t = get_threshold_for_alpha(d_mean, d_std, num_gt, alpha)\n",
    "    return get_beta_from_threshold(d_mean, d_std, num_gt, t)"
   ]
  },
  {
   "cell_type": "code",
   "execution_count": null,
   "id": "vietnamese-tribe",
   "metadata": {},
   "outputs": [],
   "source": [
    "%%time\n",
    "EXP_NAME = \"missing_covariance_full\"\n",
    "D = 2**6\n",
    "M = 2**12\n",
    "\n",
    "results = []\n",
    "for epsilon in np.linspace(0, 1, 41)[1:-1]:\n",
    "    datum = {\n",
    "        \"epsilon\": epsilon,\n",
    "    }\n",
    "    datum[\"NLL\"] = 1 - beta_nll(EXP_NAME, epsilon, D, exp_def.NUM_DRAWS, exp_def.ALPHA)\n",
    "    for metr in [\"crps_quantile\", \"energy_fast_1\", \"variogram_1\", \"dawid_sebastiani\"]:\n",
    "        datum[metr] = 1 - metric_beta(metr, EXP_NAME, epsilon, D, exp_def.NUM_DRAWS, exp_def.ALPHA, exp_def.DRAWS_PER_TRIAL, M)\n",
    "    results.append(datum)\n",
    "df = pd.DataFrame(results).set_index(\"epsilon\")"
   ]
  },
  {
   "cell_type": "code",
   "execution_count": null,
   "id": "violent-woman",
   "metadata": {},
   "outputs": [],
   "source": [
    "import matplotlib.pylab as pylab\n",
    "params = {\n",
    "    \"axes.labelsize\": 18,\n",
    "    \"axes.titlesize\": 18,\n",
    "    \"xtick.labelsize\": 18,\n",
    "    \"ytick.labelsize\": 18,\n",
    "    \"axes.linewidth\": 2,\n",
    "}\n",
    "pylab.rcParams.update(params)"
   ]
  },
  {
   "cell_type": "code",
   "execution_count": null,
   "id": "alpha-contributor",
   "metadata": {},
   "outputs": [],
   "source": [
    "fig = plt.figure(figsize=(8,6))\n",
    "\n",
    "plt.axvline(exp_def.EXP_CALIBRATION[EXP_NAME][D], linewidth=3)\n",
    "plt.plot(df[\"NLL\"], label=\"NLL\", color=\"k\", linestyle=\"solid\", linewidth=3)\n",
    "plt.plot(df[\"crps_quantile\"], label=\"CRPS-Q\", color=\"b\", linestyle=\"dotted\", linewidth=3)\n",
    "plt.plot(df[\"energy_fast_1\"], label=\"ES-Partial$_{p=1}$\", color=\"r\", linestyle=\"dotted\", linewidth=3)\n",
    "plt.plot(df[\"variogram_1\"], label=\"VG$_{p=1}$\", color=\"g\", linestyle=\"dashed\", linewidth=3)\n",
    "plt.plot(df[\"dawid_sebastiani\"], label=\"DS\", color=\"y\", linestyle=\"dashdot\", linewidth=3)\n",
    "\n",
    "plt.xlim([df.index.min(), df.index.max()])\n",
    "plt.ylim([0, 1])\n",
    "plt.xlabel(\"Covariance between variables $\\\\rho = \\\\varepsilon$\")\n",
    "plt.ylabel(\"Statistical power $1 - \\\\beta$\")\n",
    "\n",
    "plt.legend(fontsize=18, handlelength=4)\n",
    "\n",
    "fig.savefig(f\"figures/calibration_corr.pdf\", bbox_inches=\"tight\", pad_inches=0, transparent=False)\n",
    "fig.show()"
   ]
  }
 ],
 "metadata": {
  "kernelspec": {
   "display_name": "Python 3 (ipykernel)",
   "language": "python",
   "name": "python3"
  },
  "language_info": {
   "codemirror_mode": {
    "name": "ipython",
    "version": 3
   },
   "file_extension": ".py",
   "mimetype": "text/x-python",
   "name": "python",
   "nbconvert_exporter": "python",
   "pygments_lexer": "ipython3",
   "version": "3.10.9"
  }
 },
 "nbformat": 4,
 "nbformat_minor": 5
}
